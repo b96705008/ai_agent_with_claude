{
 "cells": [
  {
   "cell_type": "markdown",
   "id": "c4eb0888-5833-45e4-b66d-b09de4ec1b4c",
   "metadata": {},
   "source": [
    "# LangGraph: Functional API Playground"
   ]
  },
  {
   "cell_type": "code",
   "execution_count": 56,
   "id": "590513a3-2456-441a-bdbe-7dd536d2dcea",
   "metadata": {},
   "outputs": [],
   "source": [
    "# Ref:\n",
    "# https://langchain-ai.github.io/langgraph/concepts/functional_api/"
   ]
  },
  {
   "cell_type": "code",
   "execution_count": 44,
   "id": "a59bd3ce-261b-48a8-b322-6a698b9c08f6",
   "metadata": {},
   "outputs": [],
   "source": [
    "import time\n",
    "import uuid\n",
    "import random\n",
    "\n",
    "from langgraph.checkpoint.memory import InMemorySaver\n",
    "from langgraph.func import entrypoint, task\n",
    "from langgraph.types import interrupt"
   ]
  },
  {
   "cell_type": "markdown",
   "id": "f5de5826-e7e8-41c0-a195-9ff95d8983ff",
   "metadata": {},
   "source": [
    "## Define Task & Entrypoint"
   ]
  },
  {
   "cell_type": "code",
   "execution_count": 49,
   "id": "fac8679b-5aff-41f5-8b33-06094dcf86fb",
   "metadata": {},
   "outputs": [],
   "source": [
    "@task\n",
    "def write_essay(topic: str) -> str:\n",
    "    time.sleep(1)\n",
    "    # Random task result would be cached for resumation.\n",
    "    # e.g. API calls -> Idempotency + Task restarts\n",
    "    number = random.randint(1, 10)\n",
    "    return f\"An essay about topic: {topic}, number: {number}\"\n",
    "\n",
    "\n",
    "@entrypoint(checkpointer=InMemorySaver())\n",
    "def workflow(topic: str) -> dict:\n",
    "    essay = write_essay(topic).result()\n",
    "    is_approved = interrupt({\n",
    "        \"essay\": essay,\n",
    "        \"action\": \"Please approve/reject the essay\",\n",
    "    })\n",
    "\n",
    "    return {\n",
    "        \"essay\": essay,\n",
    "        \"is_approved\": is_approved,\n",
    "    }"
   ]
  },
  {
   "cell_type": "code",
   "execution_count": 50,
   "id": "df39b5c0-24dd-4e4a-9551-acc258a68249",
   "metadata": {},
   "outputs": [],
   "source": [
    "thread_id = str(uuid.uuid4())\n",
    "config = {\"configurable\": {\"thread_id\": thread_id}}"
   ]
  },
  {
   "cell_type": "code",
   "execution_count": 51,
   "id": "2b35cc11-077f-4675-b181-5a344e542d23",
   "metadata": {},
   "outputs": [
    {
     "data": {
      "text/plain": [
       "{'__interrupt__': [Interrupt(value={'essay': 'An essay about topic: cat, number: 7', 'action': 'Please approve/reject the essay'}, resumable=True, ns=['workflow:61ac8046-26a0-512b-fc59-5e8fc0a22505'])]}"
      ]
     },
     "execution_count": 51,
     "metadata": {},
     "output_type": "execute_result"
    }
   ],
   "source": [
    "# Sync invoke\n",
    "workflow.invoke(\"cat\", config=config)"
   ]
  },
  {
   "cell_type": "code",
   "execution_count": 52,
   "id": "ff5b5756-7413-4bc9-af4c-9d7b9afc11be",
   "metadata": {},
   "outputs": [
    {
     "data": {
      "text/plain": [
       "{'__interrupt__': [Interrupt(value={'essay': 'An essay about topic: cat, number: 5', 'action': 'Please approve/reject the essay'}, resumable=True, ns=['workflow:1b4c5c11-3c54-47dd-237d-36c732c27efc'])]}"
      ]
     },
     "execution_count": 52,
     "metadata": {},
     "output_type": "execute_result"
    }
   ],
   "source": [
    "# Async invoke\n",
    "await workflow.ainvoke(\"cat\", config=config)"
   ]
  },
  {
   "cell_type": "code",
   "execution_count": 53,
   "id": "37af9bc9-9884-437f-a9fc-61c8e9085254",
   "metadata": {},
   "outputs": [
    {
     "name": "stdout",
     "output_type": "stream",
     "text": [
      "{'write_essay': 'An essay about topic: cat, number: 1'}\n",
      "{'__interrupt__': (Interrupt(value={'essay': 'An essay about topic: cat, number: 1', 'action': 'Please approve/reject the essay'}, resumable=True, ns=['workflow:64fea6c7-75f7-ec6d-9bf2-128e11f43ef3']),)}\n"
     ]
    }
   ],
   "source": [
    "# Stream items\n",
    "for item in workflow.stream(\"cat\", config=config):\n",
    "    print(item)"
   ]
  },
  {
   "cell_type": "code",
   "execution_count": 54,
   "id": "5feeb361-3dfe-43e0-83ae-25d791cdf9f6",
   "metadata": {},
   "outputs": [
    {
     "name": "stdout",
     "output_type": "stream",
     "text": [
      "{'write_essay': 'An essay about topic: cat, number: 3'}\n",
      "{'__interrupt__': (Interrupt(value={'essay': 'An essay about topic: cat, number: 3', 'action': 'Please approve/reject the essay'}, resumable=True, ns=['workflow:06e9877c-4173-338a-eb8d-a4bedb8ae008']),)}\n"
     ]
    }
   ],
   "source": [
    "# Async stream items\n",
    "async for item in workflow.astream(\"cat\", config=config):\n",
    "    print(item)"
   ]
  },
  {
   "cell_type": "markdown",
   "id": "b82b0090-e8e5-4986-9db6-377764dec40a",
   "metadata": {},
   "source": [
    "## Human-in-the-loop"
   ]
  },
  {
   "cell_type": "code",
   "execution_count": 55,
   "id": "0a837a8d-061c-4fff-9e46-903eca3324ae",
   "metadata": {},
   "outputs": [
    {
     "name": "stdout",
     "output_type": "stream",
     "text": [
      "{'__interrupt__': [Interrupt(value={'essay': 'An essay about topic: cat, number: 4', 'action': 'Please approve/reject the essay'}, resumable=True, ns=['workflow:98e2af47-a6ac-8f76-3bf4-0b339b65cb3a'])]}\n",
      "{'workflow': {'essay': 'An essay about topic: cat, number: 4', 'is_approved': True}}\n"
     ]
    }
   ],
   "source": [
    "from langgraph.types import Command\n",
    "\n",
    "# New Thread.\n",
    "config = {\"configurable\": {\"thread_id\": str(uuid.uuid4())}}\n",
    "\n",
    "# Invoke and got interrupt.\n",
    "item = workflow.invoke(\"cat\", config=config)\n",
    "print(item)\n",
    "\n",
    "# Resume with human approval.\n",
    "human_review = True\n",
    "for item in workflow.stream(Command(resume=human_review), config):\n",
    "    print(item)"
   ]
  },
  {
   "cell_type": "markdown",
   "id": "c7df5e3d-9802-45f1-926c-e8057713aa86",
   "metadata": {},
   "source": [
    "## Short-term memory"
   ]
  },
  {
   "cell_type": "code",
   "execution_count": 26,
   "id": "4201d069-9379-4e44-84bb-336e86cebcbd",
   "metadata": {},
   "outputs": [],
   "source": [
    "from typing import Optional\n",
    "\n",
    "@entrypoint(checkpointer=InMemorySaver())\n",
    "def stm_workflow(\n",
    "    number: int, *, previous: Optional[int] = None\n",
    ") -> entrypoint.final[int, int]:\n",
    "    previous = previous or 0\n",
    "    return entrypoint.final(value=previous, save=2*number)"
   ]
  },
  {
   "cell_type": "code",
   "execution_count": 27,
   "id": "5345ec4f-b382-4ff7-ac79-a15ca00525fd",
   "metadata": {},
   "outputs": [
    {
     "data": {
      "text/plain": [
       "0"
      ]
     },
     "execution_count": 27,
     "metadata": {},
     "output_type": "execute_result"
    }
   ],
   "source": [
    "config = {\"configurable\": {\"thread_id\": str(uuid.uuid4())}}\n",
    "\n",
    "stm_workflow.invoke(3, config)"
   ]
  },
  {
   "cell_type": "code",
   "execution_count": 28,
   "id": "900d6e50-2da0-4a1a-bf26-0ef2ca146913",
   "metadata": {},
   "outputs": [
    {
     "data": {
      "text/plain": [
       "6"
      ]
     },
     "execution_count": 28,
     "metadata": {},
     "output_type": "execute_result"
    }
   ],
   "source": [
    "stm_workflow.invoke(2, config)"
   ]
  },
  {
   "cell_type": "code",
   "execution_count": 29,
   "id": "81b514da-be2f-4d81-8d7c-6bf1770b5d4e",
   "metadata": {},
   "outputs": [
    {
     "data": {
      "text/plain": [
       "4"
      ]
     },
     "execution_count": 29,
     "metadata": {},
     "output_type": "execute_result"
    }
   ],
   "source": [
    "stm_workflow.invoke(5, config)"
   ]
  },
  {
   "cell_type": "markdown",
   "id": "e09214d0-b5cb-4631-b7ef-886d3d98315e",
   "metadata": {},
   "source": [
    "## Task: Sync vs Async"
   ]
  },
  {
   "cell_type": "code",
   "execution_count": 42,
   "id": "96e72671-a2a2-477f-acb6-7db716807673",
   "metadata": {},
   "outputs": [
    {
     "name": "stdout",
     "output_type": "stream",
     "text": [
      "result: [2, 3, 4, 5, 6]\n",
      "Done in 2.011s\n"
     ]
    }
   ],
   "source": [
    "@task\n",
    "def add_one(a: int) -> int:\n",
    "    time.sleep(2)\n",
    "    return a + 1\n",
    "\n",
    "\n",
    "@entrypoint(checkpointer=InMemorySaver())\n",
    "def sync_workflow(numbers: list[int]) -> list[int]:\n",
    "    futures = [add_one(n) for n in numbers]\n",
    "    results = [f.result() for f in futures]\n",
    "    return results\n",
    "\n",
    "\n",
    "# Call the entrypoint\n",
    "config = {\"configurable\": {\"thread_id\": str(uuid.uuid4())}}\n",
    "\n",
    "start_ts = time.perf_counter()\n",
    "result = sync_workflow.invoke([1, 2, 3, 4, 5], config)\n",
    "print(f\"result: {result}\")\n",
    "print(f\"Done in {time.perf_counter() - start_ts:.3f}s\")"
   ]
  },
  {
   "cell_type": "code",
   "execution_count": 41,
   "id": "83b04608-5821-469b-991f-2d563481a26a",
   "metadata": {},
   "outputs": [
    {
     "name": "stdout",
     "output_type": "stream",
     "text": [
      "result: [2, 3, 4, 5, 6]\n",
      "Done in 2.007s\n"
     ]
    }
   ],
   "source": [
    "# Async task\n",
    "import asyncio\n",
    "\n",
    "@task\n",
    "async def add_one(a: int) -> int:\n",
    "    await asyncio.sleep(2)\n",
    "    return a + 1\n",
    "\n",
    "\n",
    "@entrypoint(checkpointer=InMemorySaver())\n",
    "async def async_workflow(numbers: list[int]) -> list[int]:\n",
    "    futures = [add_one(n) for n in numbers]\n",
    "    results = await asyncio.gather(*futures)\n",
    "    return results\n",
    "\n",
    "\n",
    "# Call the entrypoint\n",
    "config = {\"configurable\": {\"thread_id\": str(uuid.uuid4())}}\n",
    "\n",
    "start_ts = time.perf_counter()\n",
    "result = await async_workflow.ainvoke([1, 2, 3, 4, 5], config)\n",
    "print(f\"result: {result}\")\n",
    "print(f\"Done in {time.perf_counter() - start_ts:.3f}s\")"
   ]
  },
  {
   "cell_type": "code",
   "execution_count": 43,
   "id": "c4159a77-6280-4a66-8163-eccf6990246b",
   "metadata": {},
   "outputs": [],
   "source": [
    "# LangGraph handles parallel execution for both sync & async invoke"
   ]
  },
  {
   "cell_type": "code",
   "execution_count": null,
   "id": "82377320-4bf5-4275-832c-414c44f1333c",
   "metadata": {},
   "outputs": [],
   "source": []
  }
 ],
 "metadata": {
  "kernelspec": {
   "display_name": "Python 3 (ipykernel)",
   "language": "python",
   "name": "python3"
  },
  "language_info": {
   "codemirror_mode": {
    "name": "ipython",
    "version": 3
   },
   "file_extension": ".py",
   "mimetype": "text/x-python",
   "name": "python",
   "nbconvert_exporter": "python",
   "pygments_lexer": "ipython3",
   "version": "3.13.5"
  }
 },
 "nbformat": 4,
 "nbformat_minor": 5
}
