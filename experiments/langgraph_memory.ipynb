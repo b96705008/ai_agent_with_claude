{
 "cells": [
  {
   "cell_type": "code",
   "execution_count": 1,
   "id": "344a5b34-af67-4b4d-9a6f-db31ebbece7e",
   "metadata": {},
   "outputs": [],
   "source": [
    "# https://langchain-ai.github.io/langgraph/concepts/memory/\n",
    "\"\"\"\n",
    "Concept: \n",
    "- https://langchain-ai.github.io/langgraph/concepts/memory/\n",
    "\n",
    "Hot Path:\n",
    "- https://github.com/langchain-ai/memory-agent\n",
    "\n",
    "\"\"\""
   ]
  },
  {
   "cell_type": "code",
   "execution_count": 4,
   "id": "0805ed50-0391-48b6-9b08-2cd56921eae5",
   "metadata": {},
   "outputs": [],
   "source": [
    "import uuid\n",
    "\n",
    "from langgraph.store.memory import InMemoryStore\n",
    "from langchain.embeddings import init_embeddings"
   ]
  },
  {
   "cell_type": "markdown",
   "id": "5a82ff4c-b103-4fb2-8bfb-cff6ff05db5a",
   "metadata": {},
   "source": [
    "## KV Search"
   ]
  },
  {
   "cell_type": "code",
   "execution_count": 2,
   "id": "93d3676c-036c-4c78-a1d6-ea3510e8b4fb",
   "metadata": {},
   "outputs": [],
   "source": [
    "in_mem_store = InMemoryStore()\n",
    "user_id = \"1\"\n",
    "namespace = (user_id, \"memories\")"
   ]
  },
  {
   "cell_type": "code",
   "execution_count": 5,
   "id": "f53139b3-54cc-46bd-9fc3-61db7761bfdd",
   "metadata": {},
   "outputs": [],
   "source": [
    "memory_id = str(uuid.uuid4())\n",
    "memory = {\"food_preference\": \"I like pizza\"}\n",
    "in_mem_store.put(namespace, memory_id, memory)"
   ]
  },
  {
   "cell_type": "code",
   "execution_count": 6,
   "id": "455c2d41-1e49-4876-9db4-7525e83daba4",
   "metadata": {},
   "outputs": [
    {
     "data": {
      "text/plain": [
       "[Item(namespace=['1', 'memories'], key='b8d671b5-f0c2-4e7d-a6a6-2081548fee11', value={'food_preference': 'I like pizza'}, created_at='2025-08-23T04:57:15.020107+00:00', updated_at='2025-08-23T04:57:15.020114+00:00', score=None)]"
      ]
     },
     "execution_count": 6,
     "metadata": {},
     "output_type": "execute_result"
    }
   ],
   "source": [
    "in_mem_store.search(namespace)"
   ]
  },
  {
   "cell_type": "markdown",
   "id": "90fc2e53-cb22-4cee-9ec0-511cf0e46961",
   "metadata": {},
   "source": [
    "## Semantic Search"
   ]
  },
  {
   "cell_type": "code",
   "execution_count": 7,
   "id": "935e88db-c527-42ed-8ac5-78d13a931252",
   "metadata": {},
   "outputs": [
    {
     "data": {
      "text/plain": [
       "OpenAIEmbeddings(client=<openai.resources.embeddings.Embeddings object at 0x1163c9a90>, async_client=<openai.resources.embeddings.AsyncEmbeddings object at 0x1163ca3c0>, model='text-embedding-3-small', dimensions=None, deployment='text-embedding-ada-002', openai_api_version=None, openai_api_base=None, openai_api_type=None, openai_proxy=None, embedding_ctx_length=8191, openai_api_key=SecretStr('**********'), openai_organization=None, allowed_special=None, disallowed_special=None, chunk_size=1000, max_retries=2, request_timeout=None, headers=None, tiktoken_enabled=True, tiktoken_model_name=None, show_progress_bar=False, model_kwargs={}, skip_empty=False, default_headers=None, default_query=None, retry_min_seconds=4, retry_max_seconds=20, http_client=None, http_async_client=None, check_embedding_ctx_length=True)"
      ]
     },
     "execution_count": 7,
     "metadata": {},
     "output_type": "execute_result"
    }
   ],
   "source": [
    "embed = init_embeddings(\"openai:text-embedding-3-small\")\n",
    "embed"
   ]
  },
  {
   "cell_type": "code",
   "execution_count": 18,
   "id": "c8c62265-1dcc-4230-bdfb-f731a1f56389",
   "metadata": {},
   "outputs": [],
   "source": [
    "semantic_store = InMemoryStore(\n",
    "    index={\n",
    "        \"embed\": embed,\n",
    "        \"dims\": 1536,\n",
    "        \"fields\": [\"food_preference\", \"$\"], \n",
    "    }\n",
    ")"
   ]
  },
  {
   "cell_type": "code",
   "execution_count": 23,
   "id": "f8cfaebf-52ee-4249-a37b-3d800b272a10",
   "metadata": {},
   "outputs": [],
   "source": [
    "user_id = \"101\"\n",
    "namespace = (user_id, \"memories\")\n",
    "context = \"Discussing dinner plans\"\n",
    "\n",
    "semantic_store.put(\n",
    "    namespace,\n",
    "    str(uuid.uuid4()),\n",
    "    {\n",
    "        \"context\": context,\n",
    "        \"food_preference\": \"I like to eat suishi in some restaurants.\",\n",
    "    },\n",
    "    index=[\"food_preference\"]\n",
    ")\n",
    "\n",
    "semantic_store.put(\n",
    "    namespace,\n",
    "    str(uuid.uuid4()),\n",
    "    {\n",
    "        \"context\": context,\n",
    "        \"food_preference\": \"I don't like to eat pizza.\",\n",
    "    },\n",
    "    index=[\"food_preference\"]\n",
    ")\n",
    "\n",
    "semantic_store.put(\n",
    "    namespace,\n",
    "    str(uuid.uuid4()),\n",
    "    {\n",
    "        \"context\": context,\n",
    "        \"food_preference\": \"I am a software engineer\",\n",
    "    },\n",
    "    index=[\"food_preference\"]\n",
    ")"
   ]
  },
  {
   "cell_type": "code",
   "execution_count": 24,
   "id": "55a537cd-806f-45c1-92cd-617899fda223",
   "metadata": {},
   "outputs": [
    {
     "data": {
      "text/plain": [
       "[Item(namespace=['101', 'memories'], key='5fc0a918-f162-404b-9f34-84c78a171549', value={'context': 'Discussing dinner plans', 'food_preference': 'I like to eat suishi in some restaurants.'}, created_at='2025-08-23T05:24:28.422353+00:00', updated_at='2025-08-23T05:24:28.422367+00:00', score=0.41829255641859375),\n",
       " Item(namespace=['101', 'memories'], key='d506d7b2-e387-459a-a9f2-92dcd079c9aa', value={'context': 'Discussing dinner plans', 'food_preference': \"I don't like to eat pizza.\"}, created_at='2025-08-23T05:24:28.722626+00:00', updated_at='2025-08-23T05:24:28.722637+00:00', score=0.34318893647449766),\n",
       " Item(namespace=['101', 'memories'], key='27c3b2a4-727e-454a-856f-304b486d8d03', value={'context': 'Discussing dinner plans', 'food_preference': 'I am a software engineer'}, created_at='2025-08-23T05:24:29.439699+00:00', updated_at='2025-08-23T05:24:29.439711+00:00', score=0.12096475421027239)]"
      ]
     },
     "execution_count": 24,
     "metadata": {},
     "output_type": "execute_result"
    }
   ],
   "source": [
    "semantic_store.search(\n",
    "    namespace,\n",
    "    query=\"What does the user like to eat?\",\n",
    "    limit=3  # Return top 2 matches\n",
    ")"
   ]
  },
  {
   "cell_type": "code",
   "execution_count": 25,
   "id": "fe64af4d-8deb-473e-b0c7-0e3725fcbab2",
   "metadata": {},
   "outputs": [],
   "source": [
    "semantic_store.put(\n",
    "    namespace,\n",
    "    str(uuid.uuid4()),\n",
    "    {\n",
    "        \"context\": context,\n",
    "        \"food_preference\": \"I really love In-N-Out!!\",\n",
    "    },\n",
    "    index=[\"food_preference\"]\n",
    ")"
   ]
  },
  {
   "cell_type": "code",
   "execution_count": 26,
   "id": "c1b32dbe-10bd-424c-b956-4f30c585cba5",
   "metadata": {},
   "outputs": [
    {
     "data": {
      "text/plain": [
       "[Item(namespace=['101', 'memories'], key='5fc0a918-f162-404b-9f34-84c78a171549', value={'context': 'Discussing dinner plans', 'food_preference': 'I like to eat suishi in some restaurants.'}, created_at='2025-08-23T05:24:28.422353+00:00', updated_at='2025-08-23T05:24:28.422367+00:00', score=0.41820825432270375),\n",
       " Item(namespace=['101', 'memories'], key='d506d7b2-e387-459a-a9f2-92dcd079c9aa', value={'context': 'Discussing dinner plans', 'food_preference': \"I don't like to eat pizza.\"}, created_at='2025-08-23T05:24:28.722626+00:00', updated_at='2025-08-23T05:24:28.722637+00:00', score=0.34317582062748114),\n",
       " Item(namespace=['101', 'memories'], key='6f8b46b5-d192-44eb-90d4-a0d0b5eb99b1', value={'context': 'Discussing dinner plans', 'food_preference': 'I really love In-N-Out!!'}, created_at='2025-08-23T05:24:35.993076+00:00', updated_at='2025-08-23T05:24:35.993090+00:00', score=0.2719306804324292)]"
      ]
     },
     "execution_count": 26,
     "metadata": {},
     "output_type": "execute_result"
    }
   ],
   "source": [
    "semantic_store.search(\n",
    "    namespace,\n",
    "    query=\"What does the user like to eat?\",\n",
    "    limit=3  # Return top 3 matches\n",
    ")"
   ]
  },
  {
   "cell_type": "markdown",
   "id": "2463d3e2-52c1-4af2-bbaf-9dc10fdb4a7c",
   "metadata": {},
   "source": [
    "## Shared Memory between Tasks in Workflow"
   ]
  },
  {
   "cell_type": "code",
   "execution_count": 38,
   "id": "2e69b1c7-3e57-470b-b153-8728b58c5cf5",
   "metadata": {},
   "outputs": [],
   "source": [
    "import asyncio\n",
    "from datetime import datetime\n",
    "from typing import List, TypedDict\n",
    "\n",
    "from langgraph.func import entrypoint, task\n",
    "from langgraph.checkpoint.memory import InMemorySaver\n",
    "from langchain.chat_models import init_chat_model\n",
    "\n",
    "\n",
    "# Initialize the language model to be used for memory extraction\n",
    "llm = init_chat_model(\"openai:gpt-4.1\")\n",
    "\n",
    "SYSTEM_PROMPT = \"\"\"You are a helpful and friendly chatbot. \\\n",
    "Try to answer the question give the memories from the users! \\\n",
    "If you't don't have any related information, just said you't don't know.\n",
    "{memory_text}\n",
    "\n",
    "System Time: {time}\"\"\"\n",
    "\n",
    "\n",
    "store = InMemoryStore(\n",
    "    index={\n",
    "        \"embed\": init_embeddings(\"openai:text-embedding-3-small\"),\n",
    "        \"dims\": 1536,\n",
    "        \"fields\": [\"food_preference\", \"$\"], \n",
    "    }\n",
    ")\n",
    "\n",
    "app_id = \"my_app_101\"\n",
    "namespace = (app_id, \"memories\")\n",
    "context = \"Discussing dinner plans\"\n",
    "\n",
    "preference_memories = [\n",
    "    \"Roger likes to eat suishi in Tokyo.\",\n",
    "    \"Roger likes in-n-out burgers in California.\",\n",
    "    \"Cindy feels Mexico food is delicious.\",\n",
    "    \"Cindy doesn't like fast food\",\n",
    "]\n",
    "\n",
    "for memory_text in preference_memories:\n",
    "    store.put(\n",
    "        namespace,\n",
    "        str(uuid.uuid4()),\n",
    "        {\n",
    "            \"context\": context,\n",
    "            \"food_preference\": memory_text,\n",
    "        },\n",
    "        index=[\"food_preference\"]\n",
    "    )\n",
    "\n",
    "\n",
    "@task\n",
    "async def ask_question(question: str) -> str:\n",
    "    memories = store.search(\n",
    "        namespace,\n",
    "        query=question,\n",
    "        limit=2  # Return top 2 matches\n",
    "    )\n",
    "    memory_text =  \"\\n\".join(\n",
    "        f\"[{mem.key}]: {mem.value} (similarity: {mem.score})\" \n",
    "        for mem in memories\n",
    "    )\n",
    "    if memory_text:\n",
    "        memory_text = f\"\"\"\n",
    "        <memories>\n",
    "        {memory_text}\n",
    "        </memories>\"\"\"\n",
    "\n",
    "    sys_prompt_text = SYSTEM_PROMPT.format(\n",
    "        memory_text=memory_text,\n",
    "        time=datetime.now().isoformat(),\n",
    "    )\n",
    "    print(f\"question: {question}\")\n",
    "    print(f\"sys_prompt_text: {sys_prompt_text}\")\n",
    "    print(\"====\\n\\n\")\n",
    "\n",
    "    response = await llm.ainvoke([\n",
    "        {\"role\": \"system\", \"content\": sys_prompt_text}, \n",
    "        {\"role\": \"user\", \"content\": question}, \n",
    "    ])\n",
    "    return response.content\n",
    "\n",
    "\n",
    "@task\n",
    "async def store_memory(memory_text: str) -> str:\n",
    "    store.put(\n",
    "        namespace,\n",
    "        str(uuid.uuid4()),\n",
    "        {\n",
    "            \"context\": context,\n",
    "            \"food_preference\": memory_text,\n",
    "        },\n",
    "        index=[\"food_preference\"]\n",
    "    )\n",
    "    return f\"Done storing memory: {memory_text}\"\n",
    "\n",
    "\n",
    "class ChatState(TypedDict):\n",
    "    prev_questions: List[str]\n",
    "    new_memories: List[str]\n",
    "    post_questions: List[str]\n",
    "\n",
    "\n",
    "@entrypoint(checkpointer=InMemorySaver())\n",
    "async def workflow(s: ChatState) -> list[str]:\n",
    "    responses = []\n",
    "    tasks = [\n",
    "        ask_question(q) for q in s[\"prev_questions\"]\n",
    "    ] + [\n",
    "        store_memory(m) for m in s[\"new_memories\"]\n",
    "    ]\n",
    "\n",
    "    if tasks:\n",
    "        for future in asyncio.as_completed(tasks):\n",
    "            response_text = await future\n",
    "            print(response_text)\n",
    "            print(\"====\\n\\n\")\n",
    "            responses.append(response_text)\n",
    "\n",
    "    tasks = [\n",
    "        ask_question(q) for q in s[\"post_questions\"]\n",
    "    ]\n",
    "    if tasks:\n",
    "        for future in asyncio.as_completed(tasks):\n",
    "            response_text = await future\n",
    "            print(response_text)\n",
    "            print(\"====\\n\\n\")\n",
    "            responses.append(response_text)\n",
    "\n",
    "    return responses"
   ]
  },
  {
   "cell_type": "code",
   "execution_count": 39,
   "id": "6c96a02a-09aa-4507-993b-d76c086a6f28",
   "metadata": {},
   "outputs": [
    {
     "name": "stdout",
     "output_type": "stream",
     "text": [
      "question: What are food preferences for Roger\n",
      "sys_prompt_text: You are a helpful and friendly chatbot. Try to answer the question give the memories from the users! If you't don't have any related information, just said you't don't know.\n",
      "\n",
      "        <memories>\n",
      "        [3abbeb40-ced5-4e5a-8968-0c895c6f0dab]: {'context': 'Discussing dinner plans', 'food_preference': 'Roger likes to eat suishi in Tokyo.'} (similarity: 0.46379459224586417)\n",
      "[e5fc332c-5a63-4893-a03f-f3daf81b2a2e]: {'context': 'Discussing dinner plans', 'food_preference': 'Roger likes in-n-out burgers in California.'} (similarity: 0.42955565157667663)\n",
      "        </memories>\n",
      "\n",
      "System Time: 2025-08-24T17:23:48.520335\n",
      "====\n",
      "\n",
      "\n",
      "question: What are food preferences for Cindy\n",
      "sys_prompt_text: You are a helpful and friendly chatbot. Try to answer the question give the memories from the users! If you't don't have any related information, just said you't don't know.\n",
      "\n",
      "        <memories>\n",
      "        [e7834af3-08c9-4c80-a0d7-06815ed522d3]: {'context': 'Discussing dinner plans', 'food_preference': \"Cindy doesn't like fast food\"} (similarity: 0.6631364815803269)\n",
      "[52a04b72-1d7c-40fd-9bb1-f148b06fe446]: {'context': 'Discussing dinner plans', 'food_preference': 'Cindy feels Mexico food is delicious.'} (similarity: 0.6041896402734781)\n",
      "        </memories>\n",
      "\n",
      "System Time: 2025-08-24T17:23:48.680586\n",
      "====\n",
      "\n",
      "\n",
      "question: What are food preferences for Michael\n",
      "sys_prompt_text: You are a helpful and friendly chatbot. Try to answer the question give the memories from the users! If you't don't have any related information, just said you't don't know.\n",
      "\n",
      "        <memories>\n",
      "        [e7834af3-08c9-4c80-a0d7-06815ed522d3]: {'context': 'Discussing dinner plans', 'food_preference': \"Cindy doesn't like fast food\"} (similarity: 0.3359335228246253)\n",
      "[3abbeb40-ced5-4e5a-8968-0c895c6f0dab]: {'context': 'Discussing dinner plans', 'food_preference': 'Roger likes to eat suishi in Tokyo.'} (similarity: 0.319262865266754)\n",
      "        </memories>\n",
      "\n",
      "System Time: 2025-08-24T17:23:48.908466\n",
      "====\n",
      "\n",
      "\n",
      "Done storing memory: Mary likes to eat pizza!\n",
      "====\n",
      "\n",
      "\n",
      "Based on what I remember, Roger likes to eat sushi in Tokyo and enjoys In-N-Out burgers in California.\n",
      "====\n",
      "\n",
      "\n",
      "Based on my memories, Cindy doesn't like fast food, and she feels Mexican food is delicious. If you need more details or have specific preferences to check, let me know!\n",
      "====\n",
      "\n",
      "\n",
      "I don’t have any information about Michael’s food preferences. If you share more details, I can help remember them for next time!\n",
      "====\n",
      "\n",
      "\n",
      "question: What about Mary's favorite foods?\n",
      "sys_prompt_text: You are a helpful and friendly chatbot. Try to answer the question give the memories from the users! If you't don't have any related information, just said you't don't know.\n",
      "\n",
      "        <memories>\n",
      "        [5a328d24-e363-4cd9-ab2f-8f887ef016ab]: {'context': 'Discussing dinner plans', 'food_preference': 'Mary likes to eat pizza!'} (similarity: 0.613962817570779)\n",
      "[52a04b72-1d7c-40fd-9bb1-f148b06fe446]: {'context': 'Discussing dinner plans', 'food_preference': 'Cindy feels Mexico food is delicious.'} (similarity: 0.33960416331183907)\n",
      "        </memories>\n",
      "\n",
      "System Time: 2025-08-24T17:23:50.331784\n",
      "====\n",
      "\n",
      "\n",
      "From our previous conversation, I remember that Mary likes to eat pizza! If you want to know more about her food preferences, feel free to ask.\n",
      "====\n",
      "\n",
      "\n"
     ]
    }
   ],
   "source": [
    "# Call the entrypoint\n",
    "config = {\"configurable\": {\"thread_id\": str(uuid.uuid4())}}\n",
    "\n",
    "responses = await workflow.ainvoke(\n",
    "    ChatState(\n",
    "        prev_questions=[\n",
    "            f\"What are food preferences for {name}\"\n",
    "            for name in [\"Roger\", \"Cindy\", \"Michael\"]\n",
    "        ],\n",
    "        new_memories=[\n",
    "            \"Mary likes to eat pizza!\"\n",
    "        ],\n",
    "        post_questions=[\n",
    "            \"What about Mary's favorite foods?\"\n",
    "        ],\n",
    "    ), \n",
    "    config,\n",
    ")"
   ]
  },
  {
   "cell_type": "code",
   "execution_count": null,
   "id": "b7bd81a1-0705-4e81-84ad-218c2517fd29",
   "metadata": {},
   "outputs": [],
   "source": []
  }
 ],
 "metadata": {
  "kernelspec": {
   "display_name": "Python 3 (ipykernel)",
   "language": "python",
   "name": "python3"
  },
  "language_info": {
   "codemirror_mode": {
    "name": "ipython",
    "version": 3
   },
   "file_extension": ".py",
   "mimetype": "text/x-python",
   "name": "python",
   "nbconvert_exporter": "python",
   "pygments_lexer": "ipython3",
   "version": "3.13.5"
  }
 },
 "nbformat": 4,
 "nbformat_minor": 5
}
